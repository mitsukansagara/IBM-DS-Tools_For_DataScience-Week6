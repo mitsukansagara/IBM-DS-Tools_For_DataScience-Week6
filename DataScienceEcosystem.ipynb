{
 "cells": [
  {
   "cell_type": "code",
   "execution_count": null,
   "id": "c9ac6e3c",
   "metadata": {},
   "outputs": [],
   "source": [
    "Exercise 1: Create a Jupyter Notebook\n",
    "\n",
    "Create a new Jupyter notebook called DataScienceEcosystem.ipynb"
   ]
  },
  {
   "cell_type": "code",
   "execution_count": null,
   "id": "0f813e98",
   "metadata": {},
   "outputs": [],
   "source": [
    "Exercise 2: Create markdown cell with title of the notebook using H1 style heading."
   ]
  },
  {
   "cell_type": "markdown",
   "id": "ec08568d",
   "metadata": {},
   "source": [
    "# Data Science Tools and Ecosystem"
   ]
  },
  {
   "cell_type": "code",
   "execution_count": null,
   "id": "80e022b4",
   "metadata": {},
   "outputs": [],
   "source": [
    "Exercise 3 - Create a markdown cell for an introduction"
   ]
  },
  {
   "cell_type": "markdown",
   "id": "38966f9e",
   "metadata": {},
   "source": [
    "In this notebook, Data Science Tools and Ecosystem are summarized."
   ]
  },
  {
   "cell_type": "code",
   "execution_count": null,
   "id": "bd38b843",
   "metadata": {},
   "outputs": [],
   "source": [
    "Exercise 10 - Insert a markdown cell to list Objectives"
   ]
  },
  {
   "cell_type": "markdown",
   "id": "242c0949",
   "metadata": {},
   "source": [
    "## Objectives of this notebook:\n",
    "* List of Data Science Languages\n",
    "* List of Data Science Libraries\n",
    "* List of Data Science Tools\n",
    "* Arithmetic Expressions"
   ]
  },
  {
   "cell_type": "code",
   "execution_count": null,
   "id": "213fd6fb",
   "metadata": {},
   "outputs": [],
   "source": [
    "Exercise 4 - Create a markdown cell to list data science languages"
   ]
  },
  {
   "cell_type": "markdown",
   "id": "5298d0ca",
   "metadata": {},
   "source": [
    "Some of the popular languages that Data Scientists use are:\n",
    "<ol>\n",
    "  <li>Python</li>\n",
    "  <li>R</li>\n",
    "  <li>SQL</li>\n",
    "  <li>Scala</li>\n",
    "</ol>"
   ]
  },
  {
   "cell_type": "code",
   "execution_count": null,
   "id": "5087c885",
   "metadata": {},
   "outputs": [],
   "source": [
    "Exercise 5 - Create a markdown cell to list data science libraries"
   ]
  },
  {
   "cell_type": "markdown",
   "id": "6cbc123c",
   "metadata": {},
   "source": [
    "Some of the commonly used libraries used by Data Scientists include:\n",
    "* Scikit-Learn\n",
    "* Keras\n",
    "* Pandas\n",
    "* NumPy"
   ]
  },
  {
   "cell_type": "code",
   "execution_count": null,
   "id": "eb5d2dd1",
   "metadata": {},
   "outputs": [],
   "source": [
    "Exercise 6 - Create a markdown cell with a table of Data Science tools"
   ]
  },
  {
   "cell_type": "markdown",
   "id": "e0951534",
   "metadata": {},
   "source": [
    "| Data Science Tools |\n",
    "| ------------------ |\n",
    "| Jupyter Notebook   |\n",
    "| RStudio            |\n",
    "| PyCharm            |\n",
    "| Visual Studio Code |"
   ]
  },
  {
   "cell_type": "code",
   "execution_count": null,
   "id": "e3764048",
   "metadata": {},
   "outputs": [],
   "source": [
    "Exercise 7 - Create a markdown cell introducing arithmetic expression examples"
   ]
  },
  {
   "cell_type": "markdown",
   "id": "29bf868c",
   "metadata": {},
   "source": [
    "### Below are a few examples of evaluating arithmetic expressions in Python"
   ]
  },
  {
   "cell_type": "code",
   "execution_count": 3,
   "id": "c6398dac",
   "metadata": {},
   "outputs": [
    {
     "data": {
      "text/plain": [
       "100"
      ]
     },
     "execution_count": 3,
     "metadata": {},
     "output_type": "execute_result"
    }
   ],
   "source": [
    "(20+5) * 4"
   ]
  },
  {
   "cell_type": "code",
   "execution_count": 4,
   "id": "45f6739a",
   "metadata": {},
   "outputs": [
    {
     "data": {
      "text/plain": [
       "29"
      ]
     },
     "execution_count": 4,
     "metadata": {},
     "output_type": "execute_result"
    }
   ],
   "source": [
    "29 * 1"
   ]
  },
  {
   "cell_type": "code",
   "execution_count": 5,
   "id": "d79943d0",
   "metadata": {},
   "outputs": [
    {
     "data": {
      "text/plain": [
       "25.0"
      ]
     },
     "execution_count": 5,
     "metadata": {},
     "output_type": "execute_result"
    }
   ],
   "source": [
    "100 / 4"
   ]
  },
  {
   "cell_type": "code",
   "execution_count": null,
   "id": "2291e528",
   "metadata": {},
   "outputs": [],
   "source": [
    "Exercise 8 - Create a code cell to multiply and add numbers"
   ]
  },
  {
   "cell_type": "code",
   "execution_count": 6,
   "id": "734dc9b0",
   "metadata": {},
   "outputs": [
    {
     "data": {
      "text/plain": [
       "17"
      ]
     },
     "execution_count": 6,
     "metadata": {},
     "output_type": "execute_result"
    }
   ],
   "source": [
    "(3*4)+5\n",
    "#This a simple arithmetic expression to mutiply then add integers"
   ]
  },
  {
   "cell_type": "code",
   "execution_count": null,
   "id": "aa5cff0f",
   "metadata": {},
   "outputs": [],
   "source": [
    "Exercise 9 - Create a code cell to convert minutes to hours"
   ]
  },
  {
   "cell_type": "code",
   "execution_count": 8,
   "id": "47a4e863",
   "metadata": {},
   "outputs": [
    {
     "data": {
      "text/plain": [
       "3.3333333333333335"
      ]
     },
     "execution_count": 8,
     "metadata": {},
     "output_type": "execute_result"
    }
   ],
   "source": [
    "200/60\n",
    "#This will convert 200 minutes to hours by diving by 60"
   ]
  },
  {
   "cell_type": "code",
   "execution_count": null,
   "id": "eafb567f",
   "metadata": {},
   "outputs": [],
   "source": [
    "Exercise 11 - Create a markdown cell to indicate the Author's name"
   ]
  },
  {
   "cell_type": "markdown",
   "id": "edeb01f6",
   "metadata": {},
   "source": [
    "## Author\n",
    "Mitsu"
   ]
  },
  {
   "cell_type": "code",
   "execution_count": null,
   "id": "54fbd269",
   "metadata": {},
   "outputs": [],
   "source": [
    "Exercise 12 - Share your notebook through GitHub"
   ]
  },
  {
   "cell_type": "code",
   "execution_count": null,
   "id": "988413ff",
   "metadata": {},
   "outputs": [],
   "source": [
    "Exercise 13 -Take a screenshot of the first page of the notebook"
   ]
  }
 ],
 "metadata": {
  "kernelspec": {
   "display_name": "Python 3 (ipykernel)",
   "language": "python",
   "name": "python3"
  },
  "language_info": {
   "codemirror_mode": {
    "name": "ipython",
    "version": 3
   },
   "file_extension": ".py",
   "mimetype": "text/x-python",
   "name": "python",
   "nbconvert_exporter": "python",
   "pygments_lexer": "ipython3",
   "version": "3.10.8"
  }
 },
 "nbformat": 4,
 "nbformat_minor": 5
}
